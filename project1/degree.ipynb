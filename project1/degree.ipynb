{
 "cells": [
  {
   "cell_type": "code",
   "execution_count": 22,
   "metadata": {},
   "outputs": [
    {
     "name": "stdout",
     "output_type": "stream",
     "text": [
      "[['5', '6'], ['6', '7'], ['3', '3'], ['4', '6'], ['4', '11'], ['6', '8'], ['4', '18'], ['11', '18'], ['12', '18'], ['20', '24'], ['3', '24'], ['17', '24'], ['28', '38'], ['14', '38'], ['17', '38'], ['18', '47'], ['20', '47'], ['8', '11'], ['38', '29'], ['18', '29'], ['20', '29'], ['11', '46'], ['5', '8'], ['7', '38'], ['46', '39'], ['7', '47'], ['46', '48'], ['48', '49'], ['46', '49'], ['7', '49'], ['14', '42'], ['49', '53'], ['11', '53'], ['7', '57'], ['20', '57'], ['7', '58'], ['20', '58'], ['4', '58'], ['71', '72'], ['66', '71'], ['66', '72'], ['70', '71'], ['70', '72'], ['74', '76'], ['67', '74'], ['24', '81'], ['83', '76'], ['66', '95'], ['66', '100'], ['70', '83'], ['66', '95'], ['83', '95'], ['48', '84'], ['48', '83'], ['24', '90'], ['67', '90'], ['29', '90'], ['60', '88'], ['60', '92'], ['76', '88'], ['76', '92'], ['95', '100'], ['100', '101'], ['95', '101'], ['100', '103'], ['95', '103']]\n"
     ]
    }
   ],
   "source": [
    "edges = []\n",
    "\n",
    "with open('data.txt') as f:\n",
    "    for line in f:\n",
    "        sp = line.split(' ')\n",
    "        if len(sp)==2:\n",
    "            edges.append([sp[0].strip(),sp[1].strip()])\n",
    "    \n",
    "print(edges)"
   ]
  },
  {
   "cell_type": "code",
   "execution_count": 23,
   "metadata": {},
   "outputs": [],
   "source": [
    "nodes=set()"
   ]
  },
  {
   "cell_type": "code",
   "execution_count": 25,
   "metadata": {},
   "outputs": [],
   "source": [
    "for a in edges:\n",
    "    for b in a:\n",
    "        nodes.add(b)"
   ]
  },
  {
   "cell_type": "code",
   "execution_count": 28,
   "metadata": {},
   "outputs": [
    {
     "data": {
      "text/plain": [
       "43"
      ]
     },
     "execution_count": 28,
     "metadata": {},
     "output_type": "execute_result"
    }
   ],
   "source": [
    "len(nodes)"
   ]
  },
  {
   "cell_type": "code",
   "execution_count": 29,
   "metadata": {},
   "outputs": [
    {
     "data": {
      "text/plain": [
       "[5,\n",
       " 2,\n",
       " 2,\n",
       " 4,\n",
       " 4,\n",
       " 1,\n",
       " 2,\n",
       " 1,\n",
       " 4,\n",
       " 2,\n",
       " 4,\n",
       " 2,\n",
       " 4,\n",
       " 2,\n",
       " 1,\n",
       " 1,\n",
       " 5,\n",
       " 2,\n",
       " 6,\n",
       " 3,\n",
       " 5,\n",
       " 4,\n",
       " 5,\n",
       " 2,\n",
       " 4,\n",
       " 4,\n",
       " 1,\n",
       " 3,\n",
       " 3,\n",
       " 2,\n",
       " 6,\n",
       " 1,\n",
       " 4,\n",
       " 2,\n",
       " 2,\n",
       " 3,\n",
       " 2,\n",
       " 2,\n",
       " 5,\n",
       " 3,\n",
       " 5,\n",
       " 3,\n",
       " 3]"
      ]
     },
     "execution_count": 29,
     "metadata": {},
     "output_type": "execute_result"
    }
   ],
   "source": [
    "degree = []\n",
    "\n",
    "for i in range(len(nodes)):\n",
    "    degree.append(0)\n",
    "\n",
    "for i,node in enumerate(nodes):\n",
    "    for a in edges:\n",
    "        if (a[0]==node) or (a[1]==node):\n",
    "            degree[i]+=1\n",
    "            \n",
    "degree"
   ]
  },
  {
   "cell_type": "code",
   "execution_count": 30,
   "metadata": {},
   "outputs": [
    {
     "data": {
      "text/plain": [
       "43"
      ]
     },
     "execution_count": 30,
     "metadata": {},
     "output_type": "execute_result"
    }
   ],
   "source": [
    "len(degree)"
   ]
  },
  {
   "cell_type": "code",
   "execution_count": 31,
   "metadata": {},
   "outputs": [],
   "source": [
    "import matplotlib.pyplot as plt\n",
    "import numpy as np"
   ]
  },
  {
   "cell_type": "code",
   "execution_count": 48,
   "metadata": {},
   "outputs": [],
   "source": [
    "hist,bin_edges = np.histogram(degree)"
   ]
  },
  {
   "cell_type": "code",
   "execution_count": 49,
   "metadata": {},
   "outputs": [
    {
     "data": {
      "text/plain": [
       "array([ 6,  0, 13,  0,  7,  0,  9,  0,  6,  2], dtype=int64)"
      ]
     },
     "execution_count": 49,
     "metadata": {},
     "output_type": "execute_result"
    }
   ],
   "source": [
    "hist"
   ]
  },
  {
   "cell_type": "code",
   "execution_count": 50,
   "metadata": {},
   "outputs": [
    {
     "data": {
      "text/plain": [
       "array([1. , 1.5, 2. , 2.5, 3. , 3.5, 4. , 4.5, 5. , 5.5, 6. ])"
      ]
     },
     "execution_count": 50,
     "metadata": {},
     "output_type": "execute_result"
    }
   ],
   "source": [
    "bin_edges"
   ]
  },
  {
   "cell_type": "code",
   "execution_count": 51,
   "metadata": {},
   "outputs": [
    {
     "data": {
      "text/plain": [
       "array([0.13953488, 0.        , 0.30232558, 0.        , 0.1627907 ,\n",
       "       0.        , 0.20930233, 0.        , 0.13953488, 0.04651163])"
      ]
     },
     "execution_count": 51,
     "metadata": {},
     "output_type": "execute_result"
    }
   ],
   "source": [
    "hist = hist / np.sum(hist)\n",
    "hist"
   ]
  },
  {
   "cell_type": "code",
   "execution_count": 52,
   "metadata": {},
   "outputs": [],
   "source": [
    "bin_edges = np.round(bin_edges,0)"
   ]
  },
  {
   "cell_type": "code",
   "execution_count": 57,
   "metadata": {},
   "outputs": [
    {
     "data": {
      "image/png": "[encoded data removed]",
      "text/plain": [
       "<matplotlib.figure.Figure at 0x2383a03ed68>"
      ]
     },
     "metadata": {},
     "output_type": "display_data"
    }
   ],
   "source": [
    "plt.figure(figsize=[10,8])\n",
    "\n",
    "plt.bar(bin_edges[:-1], hist, width = 0.5, color='#aa0455',alpha=0.7)\n",
    "plt.xlim(min(bin_edges), max(bin_edges))\n",
    "plt.grid(axis='y', alpha=0.75)\n",
    "plt.xlabel('Degree',fontsize=20)\n",
    "plt.ylabel('Fraction of nodes',fontsize=20)\n",
    "plt.xticks(fontsize=20)\n",
    "plt.yticks(fontsize=20)\n",
    "plt.title('Degree Distribution Histogram\\n',fontsize=25)\n",
    "plt.show()"
   ]
  },
  {
   "cell_type": "code",
   "execution_count": null,
   "metadata": {},
   "outputs": [],
   "source": []
  }
 ],
 "metadata": {
  "kernelspec": {
   "display_name": "Python 3",
   "language": "python",
   "name": "python3"
  },
  "language_info": {
   "codemirror_mode": {
    "name": "ipython",
    "version": 3
   },
   "file_extension": ".py",
   "mimetype": "text/x-python",
   "name": "python",
   "nbconvert_exporter": "python",
   "pygments_lexer": "ipython3",
   "version": "3.6.3"
  }
 },
 "nbformat": 4,
 "nbformat_minor": 2
}
